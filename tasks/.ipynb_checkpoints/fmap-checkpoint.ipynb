{
 "cells": [
  {
   "cell_type": "markdown",
   "metadata": {},
   "source": [
    "# feasibility map\n",
    "\n",
    "This Jupyter notebook is a brief walkthrough covering core functionalities of the feasibility map. For a full up-to-date documentation, please refer to the [feasibility map GitHub repository](https://github.com/HUISUN24/feasibility_map.git)"
   ]
  },
  {
   "cell_type": "markdown",
   "metadata": {},
   "source": [
    "### Install feasibility map\n",
    "\n",
    "Installing feasibility map is simple and easy utilizing either **PyPI** package repository or cloning from **GitHub**.\n",
    "While not required, it is recommended to first set up a virtual environment using venv or Conda. This ensures that\n",
    "one of the required versions of Python (3.9) is used and there are no dependency conflicts. If you have Conda\n",
    "installed on your system, you can create a new environment with:\n",
    "\n",
    "    conda create -n feasibility_map python=3.9\n",
    "    conda activate feasibility_map\n",
    "\n",
    "And then simply install feasibility_map from PyPI with\n",
    "\n",
    "    pip install feasibility_map\n",
    "\n",
    "Alternatively, you can also install feasibility map in editable mode if you cloned it from GitHub like\n",
    "\n",
    "    git clone https://github.com/HUISUN24/feasibility_map.git\n",
    "\n",
    "Or by downloading a ZIP file. Please note, this will by default download the latest development version of the\n",
    "software, which may not be stable. For a stable version, you can specify a version tag after the URL with\n",
    "`--branch <tag_name> --single-branch`.\n",
    "\n",
    "Then, move to the feasibility_map folder and install in editable (`-e`) mode\n",
    "\n",
    "    cd feasibility_map\n",
    "    pip install -e .\n",
    "    \n",
    "### Install scheil\n",
    "One of the dependency need fix by cloning from **GitHub**.\n",
    "\n",
    "    git clone https://github.com/HUISUN24/scheil.git\n",
    "    cd scheil\n",
    "    pip install -e .\n",
    "\n",
    "### then run pytest to test the functions\n",
    "\n",
    "    pytest"
   ]
  },
  {
   "cell_type": "markdown",
   "metadata": {},
   "source": [
    "### Starting with feasibility_map"
   ]
  },
  {
   "cell_type": "code",
   "execution_count": 8,
   "metadata": {},
   "outputs": [],
   "source": [
    "import os\n",
    "import time\n",
    "import matplotlib as mpl\n",
    "import matplotlib.pyplot as plt\n",
    "import numpy as np\n",
    "import pandas as pd\n",
    "from materialsmap.core.compositions import generateCompositions,createComposition\n",
    "from materialsmap.ref_data import periodic_table,materials\n",
    "from materialsmap.core.pycalphad_run import pycalphad_eq,pycalphad_scheil\n",
    "from materialsmap.core.GenerateEqScript import createEqScript\n",
    "from materialsmap.core.ReadEqResult import getEqdata\n",
    "from materialsmap.core.GenerateScheilScript import createScheilScript\n",
    "from materialsmap.core.ReadScheilResult import getScheilSolidPhase\n",
    "from materialsmap.plot.FeasibilityMap import plotMaps"
   ]
  },
  {
   "cell_type": "markdown",
   "metadata": {},
   "source": [
    "Materials info"
   ]
  },
  {
   "cell_type": "markdown",
   "metadata": {},
   "source": [
    "Input"
   ]
  },
  {
   "cell_type": "code",
   "execution_count": 9,
   "metadata": {},
   "outputs": [],
   "source": [
    "# Create Compositions\n",
    "comps = ['Ag','Al','Cu']\n",
    "\n",
    "ngridpts = 1  # number of points along each dimension of the composition grid\n",
    "\n",
    "TemperatureRange = (600, 2000,40) #(lower limit, upper limit, temperature step)\n",
    "\n",
    "indep_comps = [comps[1], comps[2]]  # choose them automatically\n",
    "for i in comps:\n",
    "    if i in periodic_table:\n",
    "        materials[i] = {i:1}\n",
    "    elif i not in materials.keys():\n",
    "        materials['SS304L'] = {'Ni':0.09611451943, 'Cr':0.1993865031, 'Fe':0.7044989775}# the composition of this element/alloys(in weight fractions)\n",
    "maxNumSim = 250  # maximum number of simulations in each TCM file\n",
    "# Equilibrium simulation settings\n",
    "pressure = 101325\n",
    "database = './Ag-Al-Cu.TDB' # 'C-Cr-Cu-Fe-Mo-Nb-Ni-03-08.tdb' #'C-Cr-Cu-Fe-Mo-Nb-Ni-10-05.tdb'#'Cr-Fe-Ni-Ti-V_04-05.tdb' # <userDatabase>.TDB or TCFE8\n",
    "eleAmountType = 'massFraction' # Candidates: massFraction massPercent moleFraction molePercent\n",
    "output_Eq = f'{TemperatureRange[0]}-{TemperatureRange[1]}-{TemperatureRange[2]}-{comps[0]}-{comps[1]}-{comps[2]}-Eq'"
   ]
  },
  {
   "cell_type": "code",
   "execution_count": 10,
   "metadata": {},
   "outputs": [
    {
     "name": "stdout",
     "output_type": "stream",
     "text": [
      "The new directory is created!\n"
     ]
    }
   ],
   "source": [
    "from datetime import datetime\n",
    "current_dateTime = datetime.now()\n",
    "if '.tdb' in database or '.TDB' in database:\n",
    "    database_name = database.split('/')\n",
    "    path = f'./Simulation/{datetime.now().strftime(\"%m-%d-%Y\")}-{comps[0]}-{comps[1]}-{comps[2]}-database-{database_name[-1][:-4]}'\n",
    "else:\n",
    "    path = f'./Simulation/{datetime.now().strftime(\"%m-%d-%Y\")}-{comps[0]}-{comps[1]}-{comps[2]}-database-{database}'\n",
    "isExist = os.path.exists(path)\n",
    "if not isExist:\n",
    "    os.makedirs(path)\n",
    "    print(\"The new directory is created!\")"
   ]
  },
  {
   "cell_type": "code",
   "execution_count": 12,
   "metadata": {},
   "outputs": [
    {
     "name": "stdout",
     "output_type": "stream",
     "text": [
      "Equilibrium simulation #: 3\n",
      "Point #: 3\n",
      "Element #: 3\n",
      "relatedElement #: ['AL', 'AG', 'CU']\n",
      "[(600, 2000, 40), 3, 3, ['AL', 'AG', 'CU'], ['Ag', 'Al', 'Cu'], ['Al', 'Cu'], './Ag-Al-Cu.TDB', 101325, 'massFraction']\n"
     ]
    },
    {
     "ename": "ValueError",
     "evalue": "setting an array element with a sequence. The requested array has an inhomogeneous shape after 1 dimensions. The detected shape was (9,) + inhomogeneous part.",
     "output_type": "error",
     "traceback": [
      "\u001b[0;31m---------------------------------------------------------------------------\u001b[0m",
      "\u001b[0;31mValueError\u001b[0m                                Traceback (most recent call last)",
      "Cell \u001b[0;32mIn[12], line 5\u001b[0m\n\u001b[1;32m      3\u001b[0m settings \u001b[38;5;241m=\u001b[39m [TemperatureRange,numPoint,numSimultion,comp,comps,indep_comps,database,pressure,eleAmountType]\n\u001b[1;32m      4\u001b[0m \u001b[38;5;28mprint\u001b[39m(settings)\n\u001b[0;32m----> 5\u001b[0m \u001b[43mnp\u001b[49m\u001b[38;5;241;43m.\u001b[39;49m\u001b[43msave\u001b[49m\u001b[43m(\u001b[49m\u001b[38;5;124;43mf\u001b[39;49m\u001b[38;5;124;43m'\u001b[39;49m\u001b[38;5;132;43;01m{\u001b[39;49;00m\u001b[43mpath\u001b[49m\u001b[38;5;132;43;01m}\u001b[39;49;00m\u001b[38;5;124;43m/setting.npy\u001b[39;49m\u001b[38;5;124;43m'\u001b[39;49m\u001b[43m,\u001b[49m\u001b[43msettings\u001b[49m\u001b[43m)\u001b[49m\n",
      "File \u001b[0;32m~/opt/anaconda3/envs/feasibility1/lib/python3.9/site-packages/numpy/lib/npyio.py:545\u001b[0m, in \u001b[0;36msave\u001b[0;34m(file, arr, allow_pickle, fix_imports)\u001b[0m\n\u001b[1;32m    542\u001b[0m     file_ctx \u001b[38;5;241m=\u001b[39m \u001b[38;5;28mopen\u001b[39m(file, \u001b[38;5;124m\"\u001b[39m\u001b[38;5;124mwb\u001b[39m\u001b[38;5;124m\"\u001b[39m)\n\u001b[1;32m    544\u001b[0m \u001b[38;5;28;01mwith\u001b[39;00m file_ctx \u001b[38;5;28;01mas\u001b[39;00m fid:\n\u001b[0;32m--> 545\u001b[0m     arr \u001b[38;5;241m=\u001b[39m \u001b[43mnp\u001b[49m\u001b[38;5;241;43m.\u001b[39;49m\u001b[43masanyarray\u001b[49m\u001b[43m(\u001b[49m\u001b[43marr\u001b[49m\u001b[43m)\u001b[49m\n\u001b[1;32m    546\u001b[0m     \u001b[38;5;28mformat\u001b[39m\u001b[38;5;241m.\u001b[39mwrite_array(fid, arr, allow_pickle\u001b[38;5;241m=\u001b[39mallow_pickle,\n\u001b[1;32m    547\u001b[0m                        pickle_kwargs\u001b[38;5;241m=\u001b[39m\u001b[38;5;28mdict\u001b[39m(fix_imports\u001b[38;5;241m=\u001b[39mfix_imports))\n",
      "\u001b[0;31mValueError\u001b[0m: setting an array element with a sequence. The requested array has an inhomogeneous shape after 1 dimensions. The detected shape was (9,) + inhomogeneous part."
     ]
    }
   ],
   "source": [
    "compositions_list = generateCompositions(indep_comps,ngridpts)\n",
    "Compositions, numPoint, comp, numSimultion = createComposition(indep_comps,comps,compositions_list,materials,path)\n",
    "settings = [TemperatureRange,numPoint,numSimultion,comp,comps,indep_comps,database,pressure,eleAmountType]\n",
    "print(settings)\n",
    "np.save(f'{path}/setting.npy',settings)"
   ]
  },
  {
   "cell_type": "markdown",
   "metadata": {},
   "source": [
    "Running with pycalphad"
   ]
  },
  {
   "cell_type": "code",
   "execution_count": 5,
   "metadata": {},
   "outputs": [
    {
     "ename": "EOFError",
     "evalue": "No data left in file",
     "output_type": "error",
     "traceback": [
      "\u001b[0;31m---------------------------------------------------------------------------\u001b[0m",
      "\u001b[0;31mEOFError\u001b[0m                                  Traceback (most recent call last)",
      "Cell \u001b[0;32mIn[5], line 1\u001b[0m\n\u001b[0;32m----> 1\u001b[0m \u001b[43mpycalphad_eq\u001b[49m\u001b[43m(\u001b[49m\u001b[43mpath\u001b[49m\u001b[43m)\u001b[49m\n\u001b[1;32m      2\u001b[0m pycalphad_scheil(path,\u001b[38;5;241m2000\u001b[39m)\n",
      "File \u001b[0;32m~/Desktop/new-charge/feasibility_map/materialsmap/core/pycalphad_run.py:18\u001b[0m, in \u001b[0;36mpycalphad_eq\u001b[0;34m(path)\u001b[0m\n\u001b[1;32m     17\u001b[0m \u001b[38;5;28;01mdef\u001b[39;00m \u001b[38;5;21mpycalphad_eq\u001b[39m(path):\n\u001b[0;32m---> 18\u001b[0m     setting \u001b[38;5;241m=\u001b[39m \u001b[43mnp\u001b[49m\u001b[38;5;241;43m.\u001b[39;49m\u001b[43mload\u001b[49m\u001b[43m(\u001b[49m\u001b[38;5;124;43mf\u001b[39;49m\u001b[38;5;124;43m'\u001b[39;49m\u001b[38;5;132;43;01m{\u001b[39;49;00m\u001b[43mpath\u001b[49m\u001b[38;5;132;43;01m}\u001b[39;49;00m\u001b[38;5;124;43m/setting.npy\u001b[39;49m\u001b[38;5;124;43m'\u001b[39;49m\u001b[43m,\u001b[49m\u001b[43mallow_pickle\u001b[49m\u001b[38;5;241;43m=\u001b[39;49m\u001b[38;5;28;43;01mTrue\u001b[39;49;00m\u001b[43m)\u001b[49m\n\u001b[1;32m     19\u001b[0m     dbf \u001b[38;5;241m=\u001b[39m Database(setting[\u001b[38;5;241m6\u001b[39m])\n\u001b[1;32m     20\u001b[0m     comps \u001b[38;5;241m=\u001b[39m []\n",
      "File \u001b[0;32m~/opt/anaconda3/envs/feasibility1/lib/python3.9/site-packages/numpy/lib/npyio.py:436\u001b[0m, in \u001b[0;36mload\u001b[0;34m(file, mmap_mode, allow_pickle, fix_imports, encoding, max_header_size)\u001b[0m\n\u001b[1;32m    434\u001b[0m magic \u001b[38;5;241m=\u001b[39m fid\u001b[38;5;241m.\u001b[39mread(N)\n\u001b[1;32m    435\u001b[0m \u001b[38;5;28;01mif\u001b[39;00m \u001b[38;5;129;01mnot\u001b[39;00m magic:\n\u001b[0;32m--> 436\u001b[0m     \u001b[38;5;28;01mraise\u001b[39;00m \u001b[38;5;167;01mEOFError\u001b[39;00m(\u001b[38;5;124m\"\u001b[39m\u001b[38;5;124mNo data left in file\u001b[39m\u001b[38;5;124m\"\u001b[39m)\n\u001b[1;32m    437\u001b[0m \u001b[38;5;66;03m# If the file size is less than N, we need to make sure not\u001b[39;00m\n\u001b[1;32m    438\u001b[0m \u001b[38;5;66;03m# to seek past the beginning of the file\u001b[39;00m\n\u001b[1;32m    439\u001b[0m fid\u001b[38;5;241m.\u001b[39mseek(\u001b[38;5;241m-\u001b[39m\u001b[38;5;28mmin\u001b[39m(N, \u001b[38;5;28mlen\u001b[39m(magic)), \u001b[38;5;241m1\u001b[39m)  \u001b[38;5;66;03m# back-up\u001b[39;00m\n",
      "\u001b[0;31mEOFError\u001b[0m: No data left in file"
     ]
    }
   ],
   "source": [
    "pycalphad_eq(path)\n",
    "pycalphad_scheil(path,2000)"
   ]
  },
  {
   "cell_type": "markdown",
   "metadata": {},
   "source": [
    "Running with Thermo_Calc"
   ]
  },
  {
   "cell_type": "code",
   "execution_count": 6,
   "metadata": {},
   "outputs": [
    {
     "ename": "EOFError",
     "evalue": "No data left in file",
     "output_type": "error",
     "traceback": [
      "\u001b[0;31m---------------------------------------------------------------------------\u001b[0m",
      "\u001b[0;31mEOFError\u001b[0m                                  Traceback (most recent call last)",
      "Cell \u001b[0;32mIn[6], line 1\u001b[0m\n\u001b[0;32m----> 1\u001b[0m \u001b[43mcreateEqScript\u001b[49m\u001b[43m(\u001b[49m\u001b[43mpath\u001b[49m\u001b[43m)\u001b[49m\n\u001b[1;32m      2\u001b[0m createScheilScript(path,\u001b[38;5;241m2000\u001b[39m)\n",
      "File \u001b[0;32m~/Desktop/new-charge/feasibility_map/materialsmap/core/GenerateEqScript.py:88\u001b[0m, in \u001b[0;36mcreateEqScript\u001b[0;34m(path, maxNumSim, database, eleAmountType)\u001b[0m\n\u001b[1;32m     85\u001b[0m \u001b[38;5;28;01mdef\u001b[39;00m \u001b[38;5;21mcreateEqScript\u001b[39m(path, maxNumSim \u001b[38;5;241m=\u001b[39m \u001b[38;5;241m999\u001b[39m, database \u001b[38;5;241m=\u001b[39m \u001b[38;5;28;01mNone\u001b[39;00m, eleAmountType \u001b[38;5;241m=\u001b[39m \u001b[38;5;124m'\u001b[39m\u001b[38;5;124mmassFraction\u001b[39m\u001b[38;5;124m'\u001b[39m): \u001b[38;5;66;03m# eleAmountType = 'massFraction' or 'moleFraction', maxNumSim is the maximum number of simulation in each TCM script\u001b[39;00m\n\u001b[1;32m     86\u001b[0m     \u001b[38;5;66;03m#outputFileName: numScript(related to different comps)_comp(related elements in this script)_numFile(if exceed the maxNumSim, the script will be splited)\u001b[39;00m\n\u001b[1;32m     87\u001b[0m     \u001b[38;5;66;03m################ get settings ################\u001b[39;00m\n\u001b[0;32m---> 88\u001b[0m     settings \u001b[38;5;241m=\u001b[39m \u001b[43mgetSettings\u001b[49m\u001b[43m(\u001b[49m\u001b[43mpath\u001b[49m\u001b[43m)\u001b[49m \u001b[38;5;66;03m#[TRange, numFile, comp1, comp2, comp, folder_Eq, folder_Scheil, composition_data, Compositions, comps, pressure, database]\u001b[39;00m\n\u001b[1;32m     89\u001b[0m     path \u001b[38;5;241m=\u001b[39m os\u001b[38;5;241m.\u001b[39mpath\u001b[38;5;241m.\u001b[39mabspath(path)\n\u001b[1;32m     90\u001b[0m     Compositions \u001b[38;5;241m=\u001b[39m settings[\u001b[38;5;241m8\u001b[39m]\n",
      "File \u001b[0;32m~/Desktop/new-charge/feasibility_map/materialsmap/core/GenerateEqScript.py:51\u001b[0m, in \u001b[0;36mgetSettings\u001b[0;34m(path)\u001b[0m\n\u001b[1;32m     49\u001b[0m \u001b[38;5;28;01mdef\u001b[39;00m \u001b[38;5;21mgetSettings\u001b[39m(path): \u001b[38;5;66;03m#get settings when generating the compositions of the feasibility map\u001b[39;00m\n\u001b[1;32m     50\u001b[0m     \u001b[38;5;66;03m##############################get settings######################################\u001b[39;00m\n\u001b[0;32m---> 51\u001b[0m     settings \u001b[38;5;241m=\u001b[39m \u001b[43mnp\u001b[49m\u001b[38;5;241;43m.\u001b[39;49m\u001b[43mload\u001b[49m\u001b[43m(\u001b[49m\u001b[38;5;124;43mf\u001b[39;49m\u001b[38;5;124;43m'\u001b[39;49m\u001b[38;5;132;43;01m{\u001b[39;49;00m\u001b[43mpath\u001b[49m\u001b[38;5;132;43;01m}\u001b[39;49;00m\u001b[38;5;124;43m/setting.npy\u001b[39;49m\u001b[38;5;124;43m'\u001b[39;49m\u001b[43m,\u001b[49m\u001b[43mallow_pickle\u001b[49m\u001b[38;5;241;43m=\u001b[39;49m\u001b[38;5;28;43;01mTrue\u001b[39;49;00m\u001b[43m)\u001b[49m \u001b[38;5;66;03m#settings = [TemperatureRange,numPoint,numSimultion,relatedEles,terminalAlloys,indep_terminalAlloys,database,pressure]\u001b[39;00m\n\u001b[1;32m     52\u001b[0m     comp \u001b[38;5;241m=\u001b[39m settings[\u001b[38;5;241m3\u001b[39m]\n\u001b[1;32m     53\u001b[0m     pressure \u001b[38;5;241m=\u001b[39m settings[\u001b[38;5;241m7\u001b[39m]\n",
      "File \u001b[0;32m~/opt/anaconda3/envs/feasibility1/lib/python3.9/site-packages/numpy/lib/npyio.py:436\u001b[0m, in \u001b[0;36mload\u001b[0;34m(file, mmap_mode, allow_pickle, fix_imports, encoding, max_header_size)\u001b[0m\n\u001b[1;32m    434\u001b[0m magic \u001b[38;5;241m=\u001b[39m fid\u001b[38;5;241m.\u001b[39mread(N)\n\u001b[1;32m    435\u001b[0m \u001b[38;5;28;01mif\u001b[39;00m \u001b[38;5;129;01mnot\u001b[39;00m magic:\n\u001b[0;32m--> 436\u001b[0m     \u001b[38;5;28;01mraise\u001b[39;00m \u001b[38;5;167;01mEOFError\u001b[39;00m(\u001b[38;5;124m\"\u001b[39m\u001b[38;5;124mNo data left in file\u001b[39m\u001b[38;5;124m\"\u001b[39m)\n\u001b[1;32m    437\u001b[0m \u001b[38;5;66;03m# If the file size is less than N, we need to make sure not\u001b[39;00m\n\u001b[1;32m    438\u001b[0m \u001b[38;5;66;03m# to seek past the beginning of the file\u001b[39;00m\n\u001b[1;32m    439\u001b[0m fid\u001b[38;5;241m.\u001b[39mseek(\u001b[38;5;241m-\u001b[39m\u001b[38;5;28mmin\u001b[39m(N, \u001b[38;5;28mlen\u001b[39m(magic)), \u001b[38;5;241m1\u001b[39m)  \u001b[38;5;66;03m# back-up\u001b[39;00m\n",
      "\u001b[0;31mEOFError\u001b[0m: No data left in file"
     ]
    }
   ],
   "source": [
    "createEqScript(path)\n",
    "createScheilScript(path,2000)"
   ]
  },
  {
   "cell_type": "markdown",
   "metadata": {},
   "source": [
    "Get results with Thermo_Calc"
   ]
  },
  {
   "cell_type": "code",
   "execution_count": 6,
   "metadata": {},
   "outputs": [
    {
     "name": "stdout",
     "output_type": "stream",
     "text": [
      "###################################################################\n",
      "####################### Reading Eq Result #########################\n"
     ]
    },
    {
     "name": "stderr",
     "output_type": "stream",
     "text": [
      "100%|██████████| 3/3 [00:00<00:00, 11.24it/s]\n"
     ]
    },
    {
     "name": "stdout",
     "output_type": "stream",
     "text": [
      "####################### Reading Eq Result Done ####################\n",
      "0 files failed. FailList:\n",
      "[]\n",
      "#####################################################\n",
      "#############start reading Scheil Result#############\n"
     ]
    },
    {
     "name": "stderr",
     "output_type": "stream",
     "text": [
      "100%|██████████| 3/3 [00:00<00:00, 619.33it/s]\n"
     ]
    },
    {
     "name": "stdout",
     "output_type": "stream",
     "text": [
      "####################################################################\n",
      "Getting final Scheil result...\n"
     ]
    },
    {
     "name": "stderr",
     "output_type": "stream",
     "text": [
      "100%|██████████| 3/3 [00:00<00:00, 43539.49it/s]"
     ]
    },
    {
     "name": "stdout",
     "output_type": "stream",
     "text": [
      "##########################end reading Scheil#############################\n",
      "Read Scheil Temperature vs Liquid fraction (mole):\n",
      "Failed Index List: []\n",
      "0 Files Failed to Read\n"
     ]
    },
    {
     "name": "stderr",
     "output_type": "stream",
     "text": [
      "\n"
     ]
    }
   ],
   "source": [
    "getEqdata(path)\n",
    "getScheilSolidPhase(path)"
   ]
  },
  {
   "cell_type": "markdown",
   "metadata": {},
   "source": [
    "Plot deleterious phase diagram and crack susceptibility map"
   ]
  },
  {
   "cell_type": "code",
   "execution_count": 7,
   "metadata": {},
   "outputs": [
    {
     "ename": "FileNotFoundError",
     "evalue": "[Errno 2] No such file or directory: '/Users/sunhui/Desktop/new-charge/feasibility_map/tasks/Simulation/5-31-2023-Fe-Cr-Ni-FEDEMO/Thermo-calc/Scheil Simulation/Result/data_mole.json'",
     "output_type": "error",
     "traceback": [
      "\u001b[0;31m---------------------------------------------------------------------------\u001b[0m",
      "\u001b[0;31mFileNotFoundError\u001b[0m                         Traceback (most recent call last)",
      "Cell \u001b[0;32mIn[7], line 1\u001b[0m\n\u001b[0;32m----> 1\u001b[0m \u001b[43mplotMaps\u001b[49m\u001b[43m(\u001b[49m\u001b[38;5;124;43m'\u001b[39;49m\u001b[38;5;124;43m./Simulation/5-31-2023-Fe-Cr-Ni-FEDEMO\u001b[39;49m\u001b[38;5;124;43m'\u001b[39;49m\u001b[43m,\u001b[49m\u001b[38;5;124;43m'\u001b[39;49m\u001b[38;5;124;43mthermocalc\u001b[39;49m\u001b[38;5;124;43m'\u001b[39;49m\u001b[43m)\u001b[49m\n",
      "File \u001b[0;32m~/Desktop/new-charge/feasibility_map/materialsmap/plot/FeasibilityMap.py:225\u001b[0m, in \u001b[0;36mplotMaps\u001b[0;34m(path, engine, dynamicTRange, dynamicRatio, ScheilThreshold, EqThrshold, allowPhase, solidCriterion, hotTeartSettings)\u001b[0m\n\u001b[1;32m    223\u001b[0m folder_Eq \u001b[38;5;241m=\u001b[39m path \u001b[38;5;241m+\u001b[39m \u001b[38;5;124m'\u001b[39m\u001b[38;5;124m/Equilibrium Simulation\u001b[39m\u001b[38;5;124m'\u001b[39m\n\u001b[1;32m    224\u001b[0m \u001b[38;5;66;03m#######################read data from the simulation result#######################\u001b[39;00m\n\u001b[0;32m--> 225\u001b[0m ScheilResult, EqResult \u001b[38;5;241m=\u001b[39m \u001b[43mreadResult\u001b[49m\u001b[43m(\u001b[49m\u001b[43mfolder_Scheil\u001b[49m\u001b[43m,\u001b[49m\u001b[43mfolder_Eq\u001b[49m\u001b[43m)\u001b[49m\n\u001b[1;32m    226\u001b[0m \u001b[38;5;28;01mif\u001b[39;00m dynamicTRange:\n\u001b[1;32m    227\u001b[0m     EqResult \u001b[38;5;241m=\u001b[39m readDynamicFeasibility(ScheilResult, EqResult, dynamicRatio)\n",
      "File \u001b[0;32m~/Desktop/new-charge/feasibility_map/materialsmap/plot/FeasibilityMap.py:14\u001b[0m, in \u001b[0;36mreadResult\u001b[0;34m(folder_Scheil, folder_Eq, readMole)\u001b[0m\n\u001b[1;32m     12\u001b[0m \u001b[38;5;28;01mdef\u001b[39;00m \u001b[38;5;21mreadResult\u001b[39m(folder_Scheil,folder_Eq, readMole \u001b[38;5;241m=\u001b[39m \u001b[38;5;28;01mTrue\u001b[39;00m):\u001b[38;5;66;03m#read the previously saved Scheil and Eq result\u001b[39;00m\n\u001b[1;32m     13\u001b[0m     \u001b[38;5;28;01mif\u001b[39;00m readMole:\n\u001b[0;32m---> 14\u001b[0m         f_Scheil \u001b[38;5;241m=\u001b[39m \u001b[38;5;28;43mopen\u001b[39;49m\u001b[43m(\u001b[49m\u001b[38;5;124;43mf\u001b[39;49m\u001b[38;5;124;43m'\u001b[39;49m\u001b[38;5;132;43;01m{\u001b[39;49;00m\u001b[43mfolder_Scheil\u001b[49m\u001b[38;5;132;43;01m}\u001b[39;49;00m\u001b[38;5;124;43m/Result/data_mole.json\u001b[39;49m\u001b[38;5;124;43m'\u001b[39;49m\u001b[43m)\u001b[49m\n\u001b[1;32m     15\u001b[0m         f_Eq \u001b[38;5;241m=\u001b[39m \u001b[38;5;28mopen\u001b[39m(\u001b[38;5;124mf\u001b[39m\u001b[38;5;124m'\u001b[39m\u001b[38;5;132;01m{\u001b[39;00mfolder_Eq\u001b[38;5;132;01m}\u001b[39;00m\u001b[38;5;124m/Result/data_mole.json\u001b[39m\u001b[38;5;124m'\u001b[39m)\n\u001b[1;32m     16\u001b[0m     \u001b[38;5;28;01melse\u001b[39;00m:\n",
      "\u001b[0;31mFileNotFoundError\u001b[0m: [Errno 2] No such file or directory: '/Users/sunhui/Desktop/new-charge/feasibility_map/tasks/Simulation/5-31-2023-Fe-Cr-Ni-FEDEMO/Thermo-calc/Scheil Simulation/Result/data_mole.json'"
     ]
    }
   ],
   "source": [
    "plotMaps('./Simulation/5-31-2023-Fe-Cr-Ni-FEDEMO','thermocalc')"
   ]
  },
  {
   "cell_type": "code",
   "execution_count": null,
   "metadata": {},
   "outputs": [],
   "source": []
  }
 ],
 "metadata": {
  "kernelspec": {
   "display_name": "Python 3 (ipykernel)",
   "language": "python",
   "name": "python3"
  },
  "language_info": {
   "codemirror_mode": {
    "name": "ipython",
    "version": 3
   },
   "file_extension": ".py",
   "mimetype": "text/x-python",
   "name": "python",
   "nbconvert_exporter": "python",
   "pygments_lexer": "ipython3",
   "version": "3.9.7"
  }
 },
 "nbformat": 4,
 "nbformat_minor": 2
}
