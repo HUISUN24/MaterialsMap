{
 "cells": [
  {
   "cell_type": "code",
   "execution_count": 3,
   "metadata": {},
   "outputs": [],
   "source": [
    "import pandas as pd\n",
    "import numpy as np\n",
    "from tqdm import tqdm\n",
    "import matplotlib.pyplot as plt\n",
    "import matplotlib as mpl\n",
    "import materialsmap.plot.feasibility_helpers\n",
    "from sklearn import neighbors\n",
    "import os\n",
    "import math\n",
    "import json"
   ]
  },
  {
   "cell_type": "code",
   "execution_count": 1,
   "metadata": {},
   "outputs": [],
   "source": [
    "################################################################################\n",
    "#==============================================================================#\n",
    "##########################Eq analyze input######################################\n",
    "date = '09-08-2023-Ag-Al-Cu-database-Ag-Al-Cu'\n",
    "allowed_phases = ['LIQUID','BCC', 'FCC', 'HCP'] #as long as BCC is in the phase name, it's good, e.g. BCC_B2, BCC_A2, can change in the findMaxUnallowedPhase() function\n",
    "threshold_Eq = 0.1 # \n",
    "plotEqfeasibilityMap = False\n",
    "plotEqfeasibilityMap_diffR = False\n",
    "plotEqPhaseHeatMap = True\n",
    "plotEqPhaseHeatMap_combined = False"
   ]
  },
  {
   "cell_type": "code",
   "execution_count": 11,
   "metadata": {},
   "outputs": [],
   "source": [
    "################################################################################\n",
    "#==============================================================================#\n",
    "##############################get settings######################################\n",
    "settings = np.load(f'./Simulation/{date}/setting.npy',allow_pickle=True)\n",
    "TRange = settings[0]\n",
    "numFile = int(settings[1])\n",
    "comp1 = settings[5][0]\n",
    "comp2 = settings[5][1]\n",
    "comps = settings[4]\n",
    "folder_Eq = f'./Simulation/{date}/Pycalphad/Equilibrium Simulation'\n",
    "\n",
    "data = pd.read_excel(f'./Simulation/{date}/composition_for_feasibilityMap.xlsx')\n",
    "composition_data = dict()\n",
    "for item in data.columns:\n",
    "    if 'alloy' in item:\n",
    "        composition_data[item[6:]] = data[item].values.tolist()[:numFile]\n",
    "composition_data = pd.DataFrame(composition_data)"
   ]
  },
  {
   "cell_type": "code",
   "execution_count": null,
   "metadata": {},
   "outputs": [],
   "source": []
  },
  {
   "cell_type": "code",
   "execution_count": 13,
   "metadata": {},
   "outputs": [
    {
     "name": "stderr",
     "output_type": "stream",
     "text": [
      "  0%|          | 0/120 [00:00<?, ?it/s]\n"
     ]
    },
    {
     "ename": "KeyError",
     "evalue": "'300'",
     "output_type": "error",
     "traceback": [
      "\u001b[0;31m---------------------------------------------------------------------------\u001b[0m",
      "\u001b[0;31mKeyError\u001b[0m                                  Traceback (most recent call last)",
      "Cell \u001b[0;32mIn[13], line 60\u001b[0m\n\u001b[1;32m     58\u001b[0m         plt\u001b[39m.\u001b[39mclose()\n\u001b[1;32m     59\u001b[0m \u001b[39mif\u001b[39;00m plotEqPhaseHeatMap:\n\u001b[0;32m---> 60\u001b[0m     plotEqPhaseHeatMap_func()\n",
      "Cell \u001b[0;32mIn[13], line 12\u001b[0m, in \u001b[0;36mplotEqPhaseHeatMap_func\u001b[0;34m()\u001b[0m\n\u001b[1;32m     10\u001b[0m \u001b[39mdef\u001b[39;00m \u001b[39mplotEqPhaseHeatMap_func\u001b[39m():\n\u001b[1;32m     11\u001b[0m     \u001b[39mfor\u001b[39;00m T \u001b[39min\u001b[39;00m tqdm(\u001b[39mrange\u001b[39m(TRange[\u001b[39m0\u001b[39m], TRange[\u001b[39m1\u001b[39m], TRange[\u001b[39m2\u001b[39m])):\n\u001b[0;32m---> 12\u001b[0m         phaseAmounts \u001b[39m=\u001b[39m phase_DiffT[\u001b[39mstr\u001b[39;49m(T)]\n\u001b[1;32m     13\u001b[0m         phaseNum \u001b[39m=\u001b[39m \u001b[39mlen\u001b[39m(phaseAmounts\u001b[39m.\u001b[39mkeys())\n\u001b[1;32m     14\u001b[0m         fig \u001b[39m=\u001b[39m plt\u001b[39m.\u001b[39mfigure(figsize \u001b[39m=\u001b[39m (\u001b[39m3\u001b[39m \u001b[39m*\u001b[39m phaseNum,\u001b[39m3\u001b[39m),dpi\u001b[39m=\u001b[39m\u001b[39m200\u001b[39m)\n",
      "\u001b[0;31mKeyError\u001b[0m: '300'"
     ]
    }
   ],
   "source": [
    "################################################################################\n",
    "#==============================================================================#\n",
    "###############Plot Eq phase heat map at different temperatures#################\n",
    "f = open(f'{folder_Eq}/Result/data_mole.json')\n",
    "phase_DiffT = json.load(f)\n",
    "\n",
    "\n",
    "\n",
    "\n",
    "# def plotEqPhaseHeatMap_func():\n",
    "#     for T in tqdm(range(TRange[0], TRange[1], TRange[2])):\n",
    "#         phaseAmounts = phase_DiffT[str(T)]\n",
    "#         phaseNum = len(phaseAmounts.keys())\n",
    "#         fig = plt.figure(figsize = (3 * phaseNum,3),dpi=200)\n",
    "#         grid = plt.GridSpec(1, phaseNum,figure = fig)\n",
    "#         i = 0\n",
    "#         for phase in phaseAmounts.keys():\n",
    "#             # result = [] #(x,y,eq_phase, scheil_phase)\n",
    "#             ax = plt.subplot(grid[0,i], projection='triangular')\n",
    "#             getMaxAmount = []\n",
    "#             for x, y,amount in phaseAmounts[phase]:\n",
    "#                 getMaxAmount.append(amount)\n",
    "#             maxAmount = max(getMaxAmount)\n",
    "#             norm = mpl.colors.Normalize(vmin = 0, vmax = maxAmount)\n",
    "#             goodPhase = False\n",
    "#             for item in allowed_phases:\n",
    "#                 if item in phase:\n",
    "#                     goodPhase = True\n",
    "#             for x, y,amount in phaseAmounts[phase]:\n",
    "#                 if goodPhase:\n",
    "#                     cmap = 'Greys'\n",
    "#                     RGB1 = mpl.cm.Greys(norm(amount), bytes = True) # matplotlib.cm.coolwarm_r(norm(value), bytes = True) #(ratio,ratio,ratio)\n",
    "#                     RGB = (RGB1[0]/255,RGB1[1]/255,RGB1[2]/255)\n",
    "#                 else:\n",
    "#                     cmap = 'Reds'\n",
    "#                     RGB1 = mpl.cm.Reds(norm(amount), bytes = True) # matplotlib.cm.coolwarm_r(norm(value), bytes = True) #(ratio,ratio,ratio)\n",
    "#                     RGB = (RGB1[0]/255,RGB1[1]/255,RGB1[2]/255)\n",
    "#                 ax.scatter(x, y, color = RGB, marker = \"o\", s = dotSize)\n",
    "                    \n",
    "#             fmtted_comps = '-'.join(sorted(set(comps)))\n",
    "            \n",
    "#             cbar = plt.colorbar(mpl.cm.ScalarMappable(norm=norm, cmap=cmap),\n",
    "#                 orientation='horizontal',fraction=0.035, pad=0.2,aspect=20)\n",
    "#             for t in cbar.ax.get_xticklabels():\n",
    "#                 t.set_fontsize(11)\n",
    "#                 t.set_fontname('Times')\n",
    "#             # result = np.array(result)\n",
    "\n",
    "#             ax.set_title(f\"{phase} at {T} $^\\circ$C\",fontname = 'Times', fontsize = 11)\n",
    "#             ax.set_xlabel(f'X({comp1})', labelpad=0,fontname = 'Times', fontsize = 11)\n",
    "#             ax.set_ylabel(f'X({comp2})', labelpad=-22,fontname = 'Times', fontsize = 11)\n",
    "#             ax.set_xticks([0,0.2,0.4,0.6,0.8,1],[0,0.2,0.4,0.6,0.8,1],fontname = 'Times', fontsize = 11)\n",
    "#             ax.set_yticks([0,0.2,0.4,0.6,0.8,1],[0,0.2,0.4,0.6,0.8,1],fontname = 'Times', fontsize = 11)\n",
    "#             i += 1\n",
    "#         if not os.path.exists(f'{folder_Eq}/Result/Different_T_phaseHeatMap'):\n",
    "#             os.makedirs(f'{folder_Eq}/Result/Different_T_phaseHeatMap')\n",
    "#         fig.savefig(f'{folder_Eq}/Result/Different_T_phaseHeatMap\\{T}.tif', bbox_inches='tight')\n",
    "#         plt.close()\n"
   ]
  },
  {
   "cell_type": "code",
   "execution_count": 21,
   "metadata": {},
   "outputs": [
    {
     "name": "stdout",
     "output_type": "stream",
     "text": [
      "[300.0, 310.0, 320.0, 330.0, 340.0, 350.0, 360.0, 370.0, 380.0, 390.0, 400.0, 410.0, 420.0, 430.0, 440.0, 450.0, 460.0, 470.0, 480.0, 490.0, 500.0, 510.0, 520.0, 530.0, 540.0, 550.0, 560.0, 570.0, 580.0, 590.0, 600.0, 610.0, 620.0, 630.0, 640.0, 650.0, 660.0, 670.0, 680.0, 690.0, 700.0, 710.0, 720.0, 730.0, 740.0, 750.0, 760.0, 770.0, 780.0, 790.0, 800.0, 810.0, 820.0, 830.0, 840.0, 850.0, 860.0, 870.0, 880.0, 890.0, 900.0, 910.0, 920.0, 930.0, 940.0, 950.0, 960.0, 970.0, 980.0, 990.0, 1000.0, 1010.0, 1020.0, 1030.0, 1040.0, 1050.0, 1060.0, 1070.0, 1080.0, 1090.0, 1100.0, 1110.0, 1120.0, 1130.0, 1140.0, 1150.0, 1160.0, 1170.0, 1180.0, 1190.0, 1200.0, 1210.0, 1220.0, 1230.0, 1240.0, 1250.0, 1260.0, 1270.0, 1280.0, 1290.0, 1300.0, 1310.0, 1320.0, 1330.0, 1340.0, 1350.0, 1360.0, 1370.0, 1380.0, 1390.0, 1400.0, 1410.0, 1420.0, 1430.0, 1440.0, 1450.0, 1460.0, 1470.0, 1480.0, 1490.0]\n"
     ]
    }
   ],
   "source": [
    "print(phase_DiffT['Point464']['TK'])"
   ]
  },
  {
   "cell_type": "code",
   "execution_count": 23,
   "metadata": {},
   "outputs": [
    {
     "ename": "NameError",
     "evalue": "name 'xComp' is not defined",
     "output_type": "error",
     "traceback": [
      "\u001b[0;31m---------------------------------------------------------------------------\u001b[0m",
      "\u001b[0;31mNameError\u001b[0m                                 Traceback (most recent call last)",
      "Cell \u001b[0;32mIn[23], line 5\u001b[0m\n\u001b[1;32m      3\u001b[0m coord \u001b[39m=\u001b[39m []\n\u001b[1;32m      4\u001b[0m \u001b[39mfor\u001b[39;00m index \u001b[39min\u001b[39;00m \u001b[39mrange\u001b[39m(\u001b[39mlen\u001b[39m(composition_data)):\n\u001b[0;32m----> 5\u001b[0m     x \u001b[39m=\u001b[39m composition_data[xComp]\u001b[39m.\u001b[39mvalues[index]\n\u001b[1;32m      6\u001b[0m     y \u001b[39m=\u001b[39m composition_data[yComp]\u001b[39m.\u001b[39mvalues[index]\n\u001b[1;32m      7\u001b[0m     coord\u001b[39m.\u001b[39mappend((x, y))\n",
      "\u001b[0;31mNameError\u001b[0m: name 'xComp' is not defined"
     ]
    }
   ],
   "source": [
    "from materialsmap.core.GenerateEqScript import getSettings\n",
    "path = \n",
    "f_Eq = open(f'{folder_Eq}/Result/data_mole.json')\n",
    "finaleqResults = json.load(f_Eq)\n",
    "    settings = getSettings(path)\n",
    "settings = getSettings(path)\n",
    "xComp = settings[2]\n",
    "yComp = settings[3]\n",
    "coord = []\n",
    "for index in range(len(composition_data)):\n",
    "    x = composition_data[xComp].values[index]\n",
    "    y = composition_data[yComp].values[index]\n",
    "    coord.append((x, y))\n",
    "    \n"
   ]
  },
  {
   "cell_type": "code",
   "execution_count": null,
   "metadata": {},
   "outputs": [],
   "source": [
    "def ploteqPhase(path, finaleqResults, allowedPhases, coord,xComp,yComp):\n",
    "    \"\"\"plot different phases from scheil simulations\n",
    "\n",
    "    Args:\n",
    "        path (str): path to open the setting and store the results\n",
    "        finalScheilResults (dict): dict of scheil results\n",
    "        allowedPhases (list): list of allowed phases\n",
    "        coord (list): list of coordation \n",
    "        xComp (str): name for x label\n",
    "        yComp (str): name for y label\n",
    "\n",
    "    Returns:\n",
    "        TIF: store the reusults as TIF files\n",
    "    \"\"\"\n",
    "    print('####################################################################')\n",
    "    print('Plotting Scheil Phase Heat Map')\n",
    "    phase_data = finalScheilResults\n",
    "    phaseNames = [item for item in phase_data.keys() if item != 'Point']\n",
    "    phaseNum = len(phaseNames)\n",
    "    fig = plt.figure(figsize = (3 * phaseNum,3),dpi=200)\n",
    "    grid = plt.GridSpec(1, phaseNum,figure = fig)\n",
    "    phase_index = 0\n",
    "    for phase in phaseNames:\n",
    "        subFig = plt.subplot(grid[0,phase_index], projection='triangular')\n",
    "        phase_index += 1\n",
    "        values = [item for item in phase_data[phase] if item != '']\n",
    "        norm = mpl.colors.Normalize(vmin = 0, vmax = max(values))\n",
    "        cmap = 'Greys'\n",
    "        isBad = True\n",
    "        if phase in allowedPhases:\n",
    "                isBad = False\n",
    "        if isBad:\n",
    "            cmap = 'Reds'\n",
    "        for i in range(len(coord)):\n",
    "            value = phase_data[phase][i]\n",
    "            (x,y) = coord[i]\n",
    "            if value != '':\n",
    "                if isBad:\n",
    "                    RGB1 = mpl.cm.Reds(norm(value), bytes = True)\n",
    "                else:\n",
    "                    RGB1 = mpl.cm.Greys(norm(value), bytes = True) \n",
    "                RGB = (RGB1[0]/255,RGB1[1]/255,RGB1[2]/255)\n",
    "            else:\n",
    "                RGB = 'yellow'\n",
    "            subFig.scatter(x, y, color = RGB, marker = \"o\",s = 5)\n",
    "\n",
    "        cbar = plt.colorbar(mpl.cm.ScalarMappable(norm=norm, cmap=cmap),\n",
    "            orientation='horizontal',fraction=0.035, pad=0.2,aspect=20)\n",
    "        for t in cbar.ax.get_xticklabels():\n",
    "            t.set_fontsize(10)\n",
    "            t.set_fontname('monoserif')\n",
    "        if phase == 'LIQUID':\n",
    "            plt.title('Remaining Liquid After Scheil', fontsize = 10, fontname = 'monoserif')\n",
    "        else:\n",
    "            plt.title(phase, fontsize = 10, fontname = 'monoserif')\n",
    "        plt.xlabel(f'W({xComp})',fontsize = 10, fontname = 'monoserif')\n",
    "        plt.ylabel(f'W({yComp})',labelpad=-12.5,fontsize = 10, fontname = 'monoserif')\n",
    "\n",
    "        plt.xticks([0,0.2,0.4,0.6,0.8,1],[0,0.2,0.4,0.6,0.8,1],fontsize=10, fontname = 'monoserif')\n",
    "        plt.yticks([0,0.2,0.4,0.6,0.8,1],[0,0.2,0.4,0.6,0.8,1],fontsize=10, fontname = 'monoserif')\n",
    "\n",
    "    plt.tight_layout()\n",
    "\n",
    "    plt.savefig(f'{path}/ScheilPhaseHeatMap.tif',bbox_inches = 'tight')\n",
    "    plt.close()\n",
    "    print('Plotting Scheil Phase Heat Map done!')\n",
    "    return None"
   ]
  }
 ],
 "metadata": {
  "kernelspec": {
   "display_name": "materialsmap",
   "language": "python",
   "name": "python3"
  },
  "language_info": {
   "codemirror_mode": {
    "name": "ipython",
    "version": 3
   },
   "file_extension": ".py",
   "mimetype": "text/x-python",
   "name": "python",
   "nbconvert_exporter": "python",
   "pygments_lexer": "ipython3",
   "version": "3.9.17"
  },
  "orig_nbformat": 4
 },
 "nbformat": 4,
 "nbformat_minor": 2
}
